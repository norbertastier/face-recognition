{
 "cells": [
  {
   "cell_type": "markdown",
   "metadata": {},
   "source": [
    "#### Step 1: Face recognition"
   ]
  },
  {
   "cell_type": "code",
   "execution_count": 12,
   "metadata": {},
   "outputs": [],
   "source": [
    "import cv2\n",
    "\n",
    "alg = \"haarcascade_frontalface_default.xml\"\n",
    "haar_cascade = cv2.CascadeClassifier(alg)\n",
    "\n",
    "filename = \"people_photo.jpg\"\n",
    "img = cv2.imread(filename, 0)\n",
    "gray_img = cv2.cvtColor(img, cv2.COLOR_RGB2BGR)\n",
    "\n",
    "faces = haar_cascade.detectMultiScale(gray_img, scaleFactor=1.3, minNeighbors=4)\n",
    "\n",
    "face_increment = 0\n",
    "\n",
    "for x, y, w, h in faces:\n",
    "    cropped_image = img[y : y + h, x : x + w]\n",
    "    target_file_name = \"detected_faces/face_{0}.jpg\".format(face_increment)\n",
    "    face_increment += 1\n",
    "    \n",
    "    cv2.imwrite(\n",
    "        target_file_name,\n",
    "        cropped_image,\n",
    "    )"
   ]
  },
  {
   "cell_type": "markdown",
   "metadata": {},
   "source": [
    "#### Step 2: Embeddings Calculation"
   ]
  },
  {
   "cell_type": "code",
   "execution_count": 7,
   "metadata": {},
   "outputs": [],
   "source": [
    "import psycopg2\n",
    "import numpy as np\n",
    "from imgbeddings import imgbeddings\n",
    "from PIL import Image\n",
    "import cv2\n",
    "import os"
   ]
  },
  {
   "cell_type": "code",
   "execution_count": 4,
   "metadata": {},
   "outputs": [],
   "source": [
    "conn = psycopg2.connect('host=localhost port=9001 dbname=postgres user=postgres password=admin sslmode=prefer connect_timeout=10')"
   ]
  },
  {
   "cell_type": "code",
   "execution_count": 13,
   "metadata": {},
   "outputs": [
    {
     "name": "stderr",
     "output_type": "stream",
     "text": [
      "c:\\Users\\astie\\anaconda3\\envs\\face\\lib\\site-packages\\huggingface_hub\\file_download.py:655: FutureWarning: 'cached_download' is the legacy way to download files from the HF hub, please consider upgrading to 'hf_hub_download'\n",
      "  warnings.warn(\n",
      "c:\\Users\\astie\\anaconda3\\envs\\face\\lib\\site-packages\\transformers\\models\\clip\\processing_clip.py:144: FutureWarning: `feature_extractor` is deprecated and will be removed in v5. Use `image_processor` instead.\n",
      "  warnings.warn(\n"
     ]
    },
    {
     "name": "stdout",
     "output_type": "stream",
     "text": [
      "face_0.jpg\n",
      "face_1.jpg\n",
      "face_2.jpg\n",
      "face_3.jpg\n",
      "face_4.jpg\n",
      "face_5.jpg\n"
     ]
    }
   ],
   "source": [
    "for file_name in os.listdir(\"detected_faces\"):\n",
    "    \n",
    "    img = Image.open(\"detected_faces/\" + file_name)\n",
    "    ibed = imgbeddings()\n",
    "    embedding = ibed.to_embeddings(img)[0]\n",
    "\n",
    "    cur = conn.cursor()\n",
    "    cur.execute('INSERT INTO pictures values (%s,%s)', (file_name, embedding.tolist())) \n",
    "    print(file_name)   \n",
    "conn.commit()\n"
   ]
  },
  {
   "cell_type": "markdown",
   "metadata": {},
   "source": [
    "#### Step 3: Calculate embeddings on a new picture"
   ]
  },
  {
   "cell_type": "code",
   "execution_count": 14,
   "metadata": {},
   "outputs": [],
   "source": [
    "from PIL import Image\n",
    "file_name = \"detected_faces/face_5.jpg\"\n",
    "\n",
    "img = Image.open(file_name)\n",
    "ibed = imgbeddings()\n",
    "img_embedding = ibed.to_embeddings(img)[0]"
   ]
  },
  {
   "cell_type": "markdown",
   "metadata": {},
   "source": [
    "#### Step 4: Find similar images by querying the Postgresql database using pgvector"
   ]
  },
  {
   "cell_type": "code",
   "execution_count": 15,
   "metadata": {},
   "outputs": [
    {
     "data": {
      "image/jpeg": "[encoded data removed]",
      "text/plain": [
       "<IPython.core.display.Image object>"
      ]
     },
     "metadata": {},
     "output_type": "display_data"
    }
   ],
   "source": [
    "from IPython.display import Image, display\n",
    "\n",
    "\n",
    "cur = conn.cursor()\n",
    "string_representation = \"[\"+ \",\".join(str(x) for x in img_embedding.tolist()) + \"]\"\n",
    "cur.execute(\"SELECT picture FROM pictures ORDER BY embedding <-> %s LIMIT 1;\", (string_representation,))\n",
    "rows = cur.fetchall()\n",
    "for row in rows:\n",
    "    display(Image(filename=\"detected_faces/\"+row[0]))\n",
    "cur.close()"
   ]
  }
 ],
 "metadata": {
  "kernelspec": {
   "display_name": "face",
   "language": "python",
   "name": "python3"
  },
  "language_info": {
   "codemirror_mode": {
    "name": "ipython",
    "version": 3
   },
   "file_extension": ".py",
   "mimetype": "text/x-python",
   "name": "python",
   "nbconvert_exporter": "python",
   "pygments_lexer": "ipython3",
   "version": "3.12.1"
  }
 },
 "nbformat": 4,
 "nbformat_minor": 2
}
